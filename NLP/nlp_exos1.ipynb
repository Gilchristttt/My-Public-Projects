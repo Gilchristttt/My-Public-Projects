{
 "cells": [
  {
   "cell_type": "code",
   "execution_count": 3,
   "id": "c75884db-53c5-4983-93aa-1a9f0bff3272",
   "metadata": {},
   "outputs": [],
   "source": [
    "import spacy\n"
   ]
  },
  {
   "cell_type": "markdown",
   "id": "eca99367-3fa1-4bc1-87ce-5f3defafd17e",
   "metadata": {},
   "source": [
    "https://greenteapress.com/thinkstats2/thinkstats2.pdf"
   ]
  },
  {
   "cell_type": "code",
   "execution_count": 5,
   "id": "635c7e0c-4ea7-42b4-a1e0-437e4a182182",
   "metadata": {},
   "outputs": [],
   "source": [
    "text='''\n",
    "Look for data to help you address the question. Governments are good\n",
    "sources because data from public research is often freely available. Good\n",
    "places to start include http://www.data.gov/, and http://www.science.\n",
    "gov/, and in the United Kingdom, http://data.gov.uk/.\n",
    "Two of my favorite data sets are the General Social Survey at http://www3.norc.org/gss+website/, \n",
    "and the European Social Survey at http://www.europeansocialsurvey.org/.\n",
    "'''"
   ]
  },
  {
   "cell_type": "markdown",
   "id": "a71bd561-155f-4b34-829d-873407af66fa",
   "metadata": {},
   "source": [
    "# Hint: token has an attribute that can be used to detect a url"
   ]
  },
  {
   "cell_type": "code",
   "execution_count": 10,
   "id": "d4d09a77-f11e-4342-abdf-7297b0ebc845",
   "metadata": {},
   "outputs": [],
   "source": [
    "nlp = spacy.blank(\"en\")"
   ]
  },
  {
   "cell_type": "code",
   "execution_count": 14,
   "id": "9da37fc3-3055-453c-99e3-e36c5de86997",
   "metadata": {},
   "outputs": [],
   "source": [
    "doc = nlp(text)\n",
    "#[token for token in doc]"
   ]
  },
  {
   "cell_type": "code",
   "execution_count": 22,
   "id": "8ec8209b-19b7-45b8-9b29-278ccc1c5ffc",
   "metadata": {},
   "outputs": [
    {
     "name": "stdout",
     "output_type": "stream",
     "text": [
      "http://www.data.gov/\n",
      "http://www.science\n",
      "http://data.gov.uk/.\n",
      "http://www3.norc.org/gss+website/\n",
      "http://www.europeansocialsurvey.org/.\n"
     ]
    }
   ],
   "source": [
    "for token in doc:\n",
    "    if token.like_url:\n",
    "        print(token)"
   ]
  },
  {
   "cell_type": "markdown",
   "id": "eebe41f6-fb0e-4191-af87-767de740db2b",
   "metadata": {},
   "source": [
    "# Extract all money transaction from below sentence along with currency. Output should be,"
   ]
  },
  {
   "cell_type": "code",
   "execution_count": 26,
   "id": "7a73f78d-cdba-48e7-ba14-12f048d97449",
   "metadata": {},
   "outputs": [],
   "source": [
    "transactions = \"Tony gave two $ to Peter, Bruce gave 500 € to Steve\"\n",
    "doc1 = nlp(transactions)"
   ]
  },
  {
   "cell_type": "code",
   "execution_count": 38,
   "id": "5eceecc9-0684-4ef8-97c4-10207a217a46",
   "metadata": {},
   "outputs": [
    {
     "name": "stdout",
     "output_type": "stream",
     "text": [
      "two  $\n",
      "500  €\n"
     ]
    }
   ],
   "source": [
    "for token in doc1:\n",
    "    if token.is_currency:\n",
    "        print(f\"{doc1[token.i -1]}  {token}\")"
   ]
  },
  {
   "cell_type": "code",
   "execution_count": null,
   "id": "ce70d6a2-a770-45e4-acda-dacc184d5991",
   "metadata": {},
   "outputs": [],
   "source": []
  }
 ],
 "metadata": {
  "kernelspec": {
   "display_name": "Python 3 (ipykernel)",
   "language": "python",
   "name": "python3"
  },
  "language_info": {
   "codemirror_mode": {
    "name": "ipython",
    "version": 3
   },
   "file_extension": ".py",
   "mimetype": "text/x-python",
   "name": "python",
   "nbconvert_exporter": "python",
   "pygments_lexer": "ipython3",
   "version": "3.12.4"
  }
 },
 "nbformat": 4,
 "nbformat_minor": 5
}
