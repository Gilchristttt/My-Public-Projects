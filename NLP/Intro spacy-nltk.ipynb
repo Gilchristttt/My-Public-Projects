{
 "cells": [
  {
   "cell_type": "code",
   "execution_count": 3,
   "id": "d8f21ff1-b0d6-4998-a18e-da47ff90caa1",
   "metadata": {},
   "outputs": [],
   "source": [
    "import spacy"
   ]
  },
  {
   "cell_type": "code",
   "execution_count": 5,
   "id": "e0eccfa8-4372-48ed-a5d0-33598430241a",
   "metadata": {},
   "outputs": [],
   "source": [
    "nlp_en = spacy.load(\"en_core_web_sm\")"
   ]
  },
  {
   "cell_type": "code",
   "execution_count": 11,
   "id": "d6de39ea-4008-4164-bad9-7ac432bc1b7b",
   "metadata": {},
   "outputs": [
    {
     "name": "stdout",
     "output_type": "stream",
     "text": [
      "Mr. Messi is the best football player.\n",
      "Cristiano is good to\n"
     ]
    }
   ],
   "source": [
    "doc =nlp_en(\"Mr. Messi is the best football player. Cristiano is good to\")\n",
    "\n",
    "for sentence in doc.sents:\n",
    "    print(sentence)"
   ]
  },
  {
   "cell_type": "code",
   "execution_count": 13,
   "id": "35ecc392-7510-4389-89d1-5fb223a8e9a9",
   "metadata": {},
   "outputs": [
    {
     "name": "stdout",
     "output_type": "stream",
     "text": [
      "Mr.\n",
      "Messi\n",
      "is\n",
      "the\n",
      "best\n",
      "football\n",
      "player\n",
      ".\n",
      "Cristiano\n",
      "is\n",
      "good\n",
      "to\n"
     ]
    }
   ],
   "source": [
    "for sentence in doc.sents:\n",
    "    for words in sentence:\n",
    "        print(words)"
   ]
  },
  {
   "cell_type": "code",
   "execution_count": 15,
   "id": "81498d84-7990-45e8-a5c1-d4e0c9ddccd7",
   "metadata": {},
   "outputs": [],
   "source": [
    "import nltk"
   ]
  },
  {
   "cell_type": "code",
   "execution_count": 17,
   "id": "5bbfdc7d-271c-42e3-9794-b97cb2006a3a",
   "metadata": {},
   "outputs": [],
   "source": [
    "from nltk.tokenize import sent_tokenize"
   ]
  },
  {
   "cell_type": "code",
   "execution_count": 23,
   "id": "d74dbabd-e19a-456e-88d5-02e8c199c5b5",
   "metadata": {},
   "outputs": [
    {
     "data": {
      "text/plain": [
       "['Mr. Messi is the best football player.', 'Cristiano is good to']"
      ]
     },
     "execution_count": 23,
     "metadata": {},
     "output_type": "execute_result"
    }
   ],
   "source": [
    "sent_tokenize(\"Mr. Messi is the best football player. Cristiano is good to\")"
   ]
  },
  {
   "cell_type": "code",
   "execution_count": 25,
   "id": "ff29092f-e903-4641-8b29-97e92b5892fd",
   "metadata": {},
   "outputs": [],
   "source": [
    "#nltk.download('punkt_tab')"
   ]
  },
  {
   "cell_type": "code",
   "execution_count": 27,
   "id": "286a8e54-3cfd-4150-837d-bde5479a87a1",
   "metadata": {},
   "outputs": [
    {
     "name": "stdout",
     "output_type": "stream",
     "text": [
      "showing info https://raw.githubusercontent.com/nltk/nltk_data/gh-pages/index.xml\n"
     ]
    },
    {
     "data": {
      "text/plain": [
       "True"
      ]
     },
     "execution_count": 27,
     "metadata": {},
     "output_type": "execute_result"
    }
   ],
   "source": [
    "nltk.download()"
   ]
  },
  {
   "cell_type": "code",
   "execution_count": 29,
   "id": "4e287578-938b-45a8-814c-889f4ccc7c99",
   "metadata": {},
   "outputs": [],
   "source": [
    "nlp_fr = spacy.load(\"fr_core_news_sm\")"
   ]
  },
  {
   "cell_type": "code",
   "execution_count": 31,
   "id": "25f16674-bf7a-43d4-82af-a0cfb7ed3f93",
   "metadata": {},
   "outputs": [],
   "source": [
    "dc = nlp_fr(\"je suis celui que tu connais. Mais celui là\")"
   ]
  },
  {
   "cell_type": "code",
   "execution_count": 33,
   "id": "abb47db1-bae9-471c-b4f7-2a63e0773d25",
   "metadata": {},
   "outputs": [
    {
     "name": "stdout",
     "output_type": "stream",
     "text": [
      "je suis celui que tu connais.\n",
      "Mais celui là\n"
     ]
    }
   ],
   "source": [
    "for s in dc.sents:\n",
    "    print(s)"
   ]
  },
  {
   "cell_type": "code",
   "execution_count": 35,
   "id": "6025c6ab-73b9-42f4-8358-5c9ea4d22f19",
   "metadata": {},
   "outputs": [],
   "source": []
  },
  {
   "cell_type": "code",
   "execution_count": null,
   "id": "1c4d28b7-d97c-4de4-b572-fdfae18f8fd8",
   "metadata": {},
   "outputs": [],
   "source": []
  }
 ],
 "metadata": {
  "kernelspec": {
   "display_name": "Python 3 (ipykernel)",
   "language": "python",
   "name": "python3"
  },
  "language_info": {
   "codemirror_mode": {
    "name": "ipython",
    "version": 3
   },
   "file_extension": ".py",
   "mimetype": "text/x-python",
   "name": "python",
   "nbconvert_exporter": "python",
   "pygments_lexer": "ipython3",
   "version": "3.12.4"
  }
 },
 "nbformat": 4,
 "nbformat_minor": 5
}
