{
 "cells": [
  {
   "cell_type": "code",
   "execution_count": 17,
   "id": "2eedee6b-9d7e-4aaa-bfff-ffb43c718ea2",
   "metadata": {},
   "outputs": [],
   "source": [
    "import spacy\n",
    "import nltk"
   ]
  },
  {
   "cell_type": "code",
   "execution_count": 2,
   "id": "3890a2be-527e-4822-b024-27a82f698aa0",
   "metadata": {},
   "outputs": [],
   "source": [
    "nlp = spacy.blank(\"en\")"
   ]
  },
  {
   "cell_type": "code",
   "execution_count": 3,
   "id": "b29dd3ff-a46f-41ef-abb8-ffb8d3416ccb",
   "metadata": {},
   "outputs": [],
   "source": [
    "doc = nlp(\"I love to play football with my two friends\")"
   ]
  },
  {
   "cell_type": "code",
   "execution_count": 4,
   "id": "b90d8346-b626-44aa-bc57-8ba282a0d1ec",
   "metadata": {},
   "outputs": [
    {
     "name": "stdout",
     "output_type": "stream",
     "text": [
      "I\n",
      "love\n",
      "to\n",
      "play\n",
      "football\n",
      "with\n",
      "my\n",
      "two\n",
      "friends\n"
     ]
    }
   ],
   "source": [
    "for token in doc:\n",
    "    print(token)"
   ]
  },
  {
   "cell_type": "code",
   "execution_count": 5,
   "id": "3b463c27-05ed-4832-9ead-ee056a397f6b",
   "metadata": {},
   "outputs": [
    {
     "data": {
      "text/plain": [
       "spacy.lang.en.English"
      ]
     },
     "execution_count": 5,
     "metadata": {},
     "output_type": "execute_result"
    }
   ],
   "source": [
    "type(nlp)"
   ]
  },
  {
   "cell_type": "code",
   "execution_count": 6,
   "id": "f524fcfb-3ec4-4b86-b3c6-08a7e702768b",
   "metadata": {},
   "outputs": [
    {
     "data": {
      "text/plain": [
       "True"
      ]
     },
     "execution_count": 6,
     "metadata": {},
     "output_type": "execute_result"
    }
   ],
   "source": [
    "doc[4].is_alpha"
   ]
  },
  {
   "cell_type": "code",
   "execution_count": 7,
   "id": "aa48aadb-4004-422f-8451-e8c285c0d61d",
   "metadata": {},
   "outputs": [
    {
     "data": {
      "text/plain": [
       "True"
      ]
     },
     "execution_count": 7,
     "metadata": {},
     "output_type": "execute_result"
    }
   ],
   "source": [
    "doc[-2].like_num"
   ]
  },
  {
   "cell_type": "markdown",
   "id": "7c0e6150-1bde-41c0-aa75-b12dea104b31",
   "metadata": {},
   "source": [
    "# Stemming and Lemmatization"
   ]
  },
  {
   "cell_type": "code",
   "execution_count": 19,
   "id": "7a68949a-7ab0-41b8-a238-8eb45339bc3c",
   "metadata": {},
   "outputs": [],
   "source": [
    "from nltk.stem import PorterStemmer"
   ]
  },
  {
   "cell_type": "code",
   "execution_count": 25,
   "id": "1231f7ae-41b3-4fc9-b272-9332f1ec2d4e",
   "metadata": {},
   "outputs": [],
   "source": [
    "stemmer = PorterStemmer()"
   ]
  },
  {
   "cell_type": "code",
   "execution_count": 29,
   "id": "4517def8-aa31-4cc9-b20e-1b02f2d0194f",
   "metadata": {},
   "outputs": [
    {
     "name": "stdout",
     "output_type": "stream",
     "text": [
      "eating | eat\n",
      "eats | eat\n",
      "ate | ate\n",
      "meeting | meet\n",
      "ability | abil\n",
      "ate | ate\n"
     ]
    }
   ],
   "source": [
    "mots = [\"eating\",\"eats\",\"ate\",\"meeting\",\"ability\",\"ate\"]\n",
    "for w in mots:\n",
    "    print(w,\"|\", stemmer.stem(w))"
   ]
  },
  {
   "cell_type": "code",
   "execution_count": 31,
   "id": "854c8733-91ea-4722-bb91-1c90fcbe6d46",
   "metadata": {},
   "outputs": [],
   "source": [
    "nlp = spacy.load(\"en_core_web_sm\")"
   ]
  },
  {
   "cell_type": "code",
   "execution_count": 35,
   "id": "fdc0f761-1e35-4084-b45f-ef0ba501db1e",
   "metadata": {},
   "outputs": [
    {
     "name": "stdout",
     "output_type": "stream",
     "text": [
      "eating | eat | 9837207709914848172\n",
      "eats | eat | 9837207709914848172\n",
      "ate | eat | 9837207709914848172\n",
      "meeting | meeting | 14798207169164081740\n",
      "ability | ability | 11565809527369121409\n",
      "ate | eat | 9837207709914848172\n"
     ]
    }
   ],
   "source": [
    "doc = nlp(\"eating eats ate meeting ability ate\")\n",
    "for t in doc:\n",
    "    print(t, \"|\", t.lemma_,\"|\", t.lemma)"
   ]
  },
  {
   "cell_type": "code",
   "execution_count": 37,
   "id": "e58e4cb7-0fd4-49c3-ae80-d2c6b2919e4c",
   "metadata": {},
   "outputs": [
    {
     "data": {
      "text/plain": [
       "['tok2vec', 'tagger', 'parser', 'attribute_ruler', 'lemmatizer', 'ner']"
      ]
     },
     "execution_count": 37,
     "metadata": {},
     "output_type": "execute_result"
    }
   ],
   "source": [
    "nlp.pipe_names"
   ]
  },
  {
   "cell_type": "code",
   "execution_count": 41,
   "id": "4c0bc225-d62b-4778-8aa4-e46a701f6e2a",
   "metadata": {},
   "outputs": [
    {
     "name": "stdout",
     "output_type": "stream",
     "text": [
      "Bro | Brother\n",
      ", | ,\n",
      "you | you\n",
      "wanna | wanna\n",
      "go | go\n",
      "? | ?\n",
      "brah | Brother\n",
      "let | let\n",
      "'s | us\n",
      "go | go\n"
     ]
    }
   ],
   "source": [
    "ar = nlp.get_pipe(\"attribute_ruler\")\n",
    "ar.add([[{\"TEXT\":\"Bro\"}],[{\"TEXT\":\"brah\"}]],{\"LEMMA\":\"Brother\"})\n",
    "doc = nlp(\"Bro, you wanna go? brah let's go\")\n",
    "for t in doc:\n",
    "    print(t, \"|\", t.lemma_)"
   ]
  },
  {
   "cell_type": "code",
   "execution_count": null,
   "id": "7b5b9df1-0b19-41aa-903f-ec21de287300",
   "metadata": {},
   "outputs": [],
   "source": []
  }
 ],
 "metadata": {
  "kernelspec": {
   "display_name": "Python 3 (ipykernel)",
   "language": "python",
   "name": "python3"
  },
  "language_info": {
   "codemirror_mode": {
    "name": "ipython",
    "version": 3
   },
   "file_extension": ".py",
   "mimetype": "text/x-python",
   "name": "python",
   "nbconvert_exporter": "python",
   "pygments_lexer": "ipython3",
   "version": "3.12.4"
  }
 },
 "nbformat": 4,
 "nbformat_minor": 5
}
