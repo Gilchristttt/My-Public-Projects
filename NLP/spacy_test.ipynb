{
 "cells": [
  {
   "cell_type": "code",
   "execution_count": 1,
   "id": "2eedee6b-9d7e-4aaa-bfff-ffb43c718ea2",
   "metadata": {},
   "outputs": [],
   "source": [
    "import spacy"
   ]
  },
  {
   "cell_type": "code",
   "execution_count": 3,
   "id": "3890a2be-527e-4822-b024-27a82f698aa0",
   "metadata": {},
   "outputs": [],
   "source": [
    "nlp = spacy.blank(\"en\")"
   ]
  },
  {
   "cell_type": "code",
   "execution_count": 13,
   "id": "b29dd3ff-a46f-41ef-abb8-ffb8d3416ccb",
   "metadata": {},
   "outputs": [],
   "source": [
    "doc = nlp(\"I love to play football with my two friends\")"
   ]
  },
  {
   "cell_type": "code",
   "execution_count": 15,
   "id": "b90d8346-b626-44aa-bc57-8ba282a0d1ec",
   "metadata": {},
   "outputs": [
    {
     "name": "stdout",
     "output_type": "stream",
     "text": [
      "I\n",
      "love\n",
      "to\n",
      "play\n",
      "football\n",
      "with\n",
      "my\n",
      "two\n",
      "friends\n"
     ]
    }
   ],
   "source": [
    "for token in doc:\n",
    "    print(token)"
   ]
  },
  {
   "cell_type": "code",
   "execution_count": 17,
   "id": "3b463c27-05ed-4832-9ead-ee056a397f6b",
   "metadata": {},
   "outputs": [
    {
     "data": {
      "text/plain": [
       "spacy.lang.en.English"
      ]
     },
     "execution_count": 17,
     "metadata": {},
     "output_type": "execute_result"
    }
   ],
   "source": [
    "type(nlp)"
   ]
  },
  {
   "cell_type": "code",
   "execution_count": 19,
   "id": "f524fcfb-3ec4-4b86-b3c6-08a7e702768b",
   "metadata": {},
   "outputs": [
    {
     "data": {
      "text/plain": [
       "True"
      ]
     },
     "execution_count": 19,
     "metadata": {},
     "output_type": "execute_result"
    }
   ],
   "source": [
    "doc[4].is_alpha"
   ]
  },
  {
   "cell_type": "code",
   "execution_count": 21,
   "id": "aa48aadb-4004-422f-8451-e8c285c0d61d",
   "metadata": {},
   "outputs": [
    {
     "data": {
      "text/plain": [
       "True"
      ]
     },
     "execution_count": 21,
     "metadata": {},
     "output_type": "execute_result"
    }
   ],
   "source": [
    "doc[-2].like_num"
   ]
  },
  {
   "cell_type": "code",
   "execution_count": null,
   "id": "9e0ba7f4-2bd8-4729-a0a0-2c5c086c6de9",
   "metadata": {},
   "outputs": [],
   "source": []
  }
 ],
 "metadata": {
  "kernelspec": {
   "display_name": "Python 3 (ipykernel)",
   "language": "python",
   "name": "python3"
  },
  "language_info": {
   "codemirror_mode": {
    "name": "ipython",
    "version": 3
   },
   "file_extension": ".py",
   "mimetype": "text/x-python",
   "name": "python",
   "nbconvert_exporter": "python",
   "pygments_lexer": "ipython3",
   "version": "3.12.4"
  }
 },
 "nbformat": 4,
 "nbformat_minor": 5
}
